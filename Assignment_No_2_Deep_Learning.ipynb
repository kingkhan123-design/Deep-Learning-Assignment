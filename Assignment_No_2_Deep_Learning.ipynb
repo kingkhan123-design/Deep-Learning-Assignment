{
  "nbformat": 4,
  "nbformat_minor": 0,
  "metadata": {
    "colab": {
      "name": "Assignment No 2 Deep Learning",
      "provenance": [],
      "collapsed_sections": []
    },
    "kernelspec": {
      "name": "python3",
      "display_name": "Python 3"
    },
    "language_info": {
      "name": "python"
    }
  },
  "cells": [
    {
      "cell_type": "code",
      "execution_count": 3,
      "metadata": {
        "colab": {
          "base_uri": "https://localhost:8080/",
          "height": 0
        },
        "id": "3z7JGQgqoPBN",
        "outputId": "a8760460-02e4-4038-bdd3-6b2f07c90605"
      },
      "outputs": [
        {
          "output_type": "stream",
          "name": "stdout",
          "text": [
            "9.0\n"
          ]
        }
      ],
      "source": [
        "# 1 implement mean square error using numpy\n",
        "import numpy as np\n",
        "a = np.array([1,2,3])\n",
        "b = np.array([4,5,6])\n",
        "sub = np.subtract(a,b)\n",
        "square= np.square(sub)\n",
        "mse = square.mean()\n",
        "print(mse)"
      ]
    },
    {
      "cell_type": "code",
      "source": [
        "# 2 implement mean square error without using numpy\n",
        "from sklearn.metrics import mean_squared_error\n",
        "Y_true = [1,2,3]\n",
        "Y_pred = [4,5,6]\n",
        "mean_squared_error(Y_true,Y_pred)"
      ],
      "metadata": {
        "colab": {
          "base_uri": "https://localhost:8080/",
          "height": 0
        },
        "id": "MkO4Xe5xszpt",
        "outputId": "a9f8667f-a674-4ebc-e57d-7b409ed68566"
      },
      "execution_count": 5,
      "outputs": [
        {
          "output_type": "execute_result",
          "data": {
            "text/plain": [
              "9.0"
            ]
          },
          "metadata": {},
          "execution_count": 5
        }
      ]
    },
    {
      "cell_type": "code",
      "source": [
        ""
      ],
      "metadata": {
        "id": "40rnF8ZrteSH"
      },
      "execution_count": null,
      "outputs": []
    }
  ]
}